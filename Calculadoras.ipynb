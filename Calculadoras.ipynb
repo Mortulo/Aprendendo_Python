{
  "nbformat": 4,
  "nbformat_minor": 0,
  "metadata": {
    "colab": {
      "provenance": [],
      "authorship_tag": "ABX9TyMaMZBwuw2Clpv9lHEjtev5",
      "include_colab_link": true
    },
    "kernelspec": {
      "name": "python3",
      "display_name": "Python 3"
    },
    "language_info": {
      "name": "python"
    }
  },
  "cells": [
    {
      "cell_type": "markdown",
      "metadata": {
        "id": "view-in-github",
        "colab_type": "text"
      },
      "source": [
        "<a href=\"https://colab.research.google.com/github/Mortulo/Aprendendo_Python/blob/main/Calculadoras.ipynb\" target=\"_parent\"><img src=\"https://colab.research.google.com/assets/colab-badge.svg\" alt=\"Open In Colab\"/></a>"
      ]
    },
    {
      "cell_type": "code",
      "source": [
        "\n",
        "num1 = float(input(\"Digite a primeira nota: \"))\n",
        "num2 = float(input(\"Digite a segunda nota: \"))\n",
        "num3 = float(input(\"Digite a terceira nota: \"))\n",
        "Resultado = num1 + num2 + num3\n",
        "\n",
        "print(\"O resultado é: \",Resultado)\n",
        "\n",
        "Media = (num1 + num2 + num3) / 3\n",
        "\n",
        "print(\"A media é: \",Media)\n",
        "\n",
        "if(Media >= 7):\n",
        "   print(\"Aprovado!\")\n",
        "else:\n",
        "   print(\"Reprovado!\")"
      ],
      "metadata": {
        "colab": {
          "base_uri": "https://localhost:8080/"
        },
        "id": "4xYwkb-zdzAE",
        "outputId": "f070dffc-e94a-4a41-e42b-c2441d11df1f"
      },
      "execution_count": null,
      "outputs": [
        {
          "output_type": "stream",
          "name": "stdout",
          "text": [
            "Digite a primeira nota: 7\n",
            "Digite a segunda nota: 7\n",
            "Digite a terceira nota: 7\n",
            "O resultado é:  21.0\n",
            "A media é:  7.0\n",
            "Aprovado!\n"
          ]
        }
      ]
    },
    {
      "cell_type": "code",
      "source": [
        "num1 = float(input(\"Insira o primeiro número: \"))\n",
        "operator = input(\"Insira o operador (+,-,*,/): \")\n",
        "num2 = float(input(\"Insira o segundo número: \"))\n",
        "\n",
        "if operator == '+':\n",
        "   print(\"Resultado: \", num1+num2)\n",
        "elif operator == '-':\n",
        "   print(\"Resultado: \", num1-num2)\n",
        "elif operator == '*':\n",
        "   print(\"Resultado: \", num1*num2)\n",
        "elif operator == '/':\n",
        "   if num2 == 0:\n",
        "      print(\"Divisão por zero não é permitido\")\n",
        "   else:\n",
        "      print(\"Resultado: \", num1/num2)\n",
        "else:\n",
        "   print(\"Tente novamente!\")"
      ],
      "metadata": {
        "colab": {
          "base_uri": "https://localhost:8080/"
        },
        "id": "gVE48cpEn_qD",
        "outputId": "fa098af8-49bb-46ff-fd73-f47a4987504b"
      },
      "execution_count": null,
      "outputs": [
        {
          "output_type": "stream",
          "name": "stdout",
          "text": [
            "Insira o primeiro número: 10\n",
            "Insira o operador (+,-,*,/): -\n",
            "Insira o segundo número: 2\n",
            "Resultado:  8.0\n"
          ]
        }
      ]
    }
  ]
}